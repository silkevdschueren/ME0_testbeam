{
 "cells": [
  {
   "cell_type": "markdown",
   "id": "c3a2d064",
   "metadata": {},
   "source": [
    "# Tracking efficiency\n",
    "\n",
    "Are the tracks always reconstructed in an efficient way, independent of the rate? And does the angle of the detector change with the rate?\n",
    "This should not be rate dependent, but check this: \n",
    "- Look at different runs, plot mean chi2 against the rate. Exclude events with chi2=0.\n",
    "- Look at different runs, plot mean angle as function of rate."
   ]
  },
  {
   "cell_type": "code",
   "execution_count": 1,
   "id": "a8834d2d",
   "metadata": {},
   "outputs": [
    {
     "name": "stderr",
     "output_type": "stream",
     "text": [
      "/eos/home-i02/s/sivander/SWAN_projects/tutorial/_distutils_hack/__init__.py:18: UserWarning: Distutils was imported before Setuptools, but importing Setuptools also replaces the `distutils` module in `sys.modules`. This may lead to undesirable behaviors or errors. To avoid these issues, avoid using distutils directly, ensure that setuptools is installed in the traditional way (e.g. not an editable install), and/or make sure that setuptools is always imported before distutils.\n",
      "  warnings.warn(\n",
      "/eos/home-i02/s/sivander/SWAN_projects/tutorial/_distutils_hack/__init__.py:33: UserWarning: Setuptools is replacing distutils.\n",
      "  warnings.warn(\"Setuptools is replacing distutils.\")\n"
     ]
    }
   ],
   "source": [
    "%load_ext autoreload\n",
    "%autoreload 2\n",
    "from testbeam import *"
   ]
  },
  {
   "cell_type": "code",
   "execution_count": 2,
   "id": "9e59f8ae",
   "metadata": {},
   "outputs": [
    {
     "name": "stdout",
     "output_type": "stream",
     "text": [
      "CPU times: user 128 ms, sys: 3.23 ms, total: 132 ms\n",
      "Wall time: 136 ms\n",
      "CPU times: user 1.8 ms, sys: 829 µs, total: 2.63 ms\n",
      "Wall time: 20.2 ms\n"
     ]
    }
   ],
   "source": [
    "%time file = read_runinfo('GEM GIF++ testbeam 2022')\n",
    "%time file = add_rate(file, \"rate_attenuation.txt\")"
   ]
  },
  {
   "cell_type": "code",
   "execution_count": 3,
   "id": "7414dda0",
   "metadata": {
    "scrolled": true
   },
   "outputs": [
    {
     "name": "stdout",
     "output_type": "stream",
     "text": [
      "CPU times: user 2min 2s, sys: 1.59 s, total: 2min 4s\n",
      "Wall time: 2min 7s\n"
     ]
    }
   ],
   "source": [
    "%time file = add_chi2(file)"
   ]
  },
  {
   "cell_type": "code",
   "execution_count": 4,
   "id": "791a2cf9",
   "metadata": {
    "scrolled": true
   },
   "outputs": [
    {
     "name": "stderr",
     "output_type": "stream",
     "text": [
      "/cvmfs/sft.cern.ch/lcg/views/LCG_102swan/x86_64-centos7-gcc11-opt/lib/python3.9/site-packages/scipy/odr/_odrpack.py:394: RuntimeWarning: divide by zero encountered in divide\n",
      "  return 1./numpy.power(sd, 2)\n",
      "/cvmfs/sft.cern.ch/lcg/views/LCG_102swan/x86_64-centos7-gcc11-opt/lib/python3.9/site-packages/scipy/odr/_odrpack.py:394: RuntimeWarning: divide by zero encountered in divide\n",
      "  return 1./numpy.power(sd, 2)\n",
      "/cvmfs/sft.cern.ch/lcg/views/LCG_102swan/x86_64-centos7-gcc11-opt/lib/python3.9/site-packages/scipy/odr/_odrpack.py:394: RuntimeWarning: divide by zero encountered in divide\n",
      "  return 1./numpy.power(sd, 2)\n",
      "/cvmfs/sft.cern.ch/lcg/views/LCG_102swan/x86_64-centos7-gcc11-opt/lib/python3.9/site-packages/scipy/odr/_odrpack.py:394: RuntimeWarning: divide by zero encountered in divide\n",
      "  return 1./numpy.power(sd, 2)\n",
      "/cvmfs/sft.cern.ch/lcg/views/LCG_102swan/x86_64-centos7-gcc11-opt/lib/python3.9/site-packages/scipy/odr/_odrpack.py:394: RuntimeWarning: divide by zero encountered in divide\n",
      "  return 1./numpy.power(sd, 2)\n",
      "/cvmfs/sft.cern.ch/lcg/views/LCG_102swan/x86_64-centos7-gcc11-opt/lib/python3.9/site-packages/scipy/odr/_odrpack.py:394: RuntimeWarning: divide by zero encountered in divide\n",
      "  return 1./numpy.power(sd, 2)\n",
      "/cvmfs/sft.cern.ch/lcg/views/LCG_102swan/x86_64-centos7-gcc11-opt/lib/python3.9/site-packages/scipy/odr/_odrpack.py:394: RuntimeWarning: divide by zero encountered in divide\n",
      "  return 1./numpy.power(sd, 2)\n",
      "/cvmfs/sft.cern.ch/lcg/views/LCG_102swan/x86_64-centos7-gcc11-opt/lib/python3.9/site-packages/scipy/odr/_odrpack.py:394: RuntimeWarning: divide by zero encountered in divide\n",
      "  return 1./numpy.power(sd, 2)\n",
      "/cvmfs/sft.cern.ch/lcg/views/LCG_102swan/x86_64-centos7-gcc11-opt/lib/python3.9/site-packages/scipy/odr/_odrpack.py:394: RuntimeWarning: divide by zero encountered in divide\n",
      "  return 1./numpy.power(sd, 2)\n",
      "/cvmfs/sft.cern.ch/lcg/views/LCG_102swan/x86_64-centos7-gcc11-opt/lib/python3.9/site-packages/scipy/odr/_odrpack.py:394: RuntimeWarning: divide by zero encountered in divide\n",
      "  return 1./numpy.power(sd, 2)\n",
      "/cvmfs/sft.cern.ch/lcg/views/LCG_102swan/x86_64-centos7-gcc11-opt/lib/python3.9/site-packages/scipy/odr/_odrpack.py:394: RuntimeWarning: divide by zero encountered in divide\n",
      "  return 1./numpy.power(sd, 2)\n",
      "/cvmfs/sft.cern.ch/lcg/views/LCG_102swan/x86_64-centos7-gcc11-opt/lib/python3.9/site-packages/scipy/odr/_odrpack.py:394: RuntimeWarning: divide by zero encountered in divide\n",
      "  return 1./numpy.power(sd, 2)\n",
      "/cvmfs/sft.cern.ch/lcg/views/LCG_102swan/x86_64-centos7-gcc11-opt/lib/python3.9/site-packages/scipy/odr/_odrpack.py:394: RuntimeWarning: divide by zero encountered in divide\n",
      "  return 1./numpy.power(sd, 2)\n",
      "/cvmfs/sft.cern.ch/lcg/views/LCG_102swan/x86_64-centos7-gcc11-opt/lib/python3.9/site-packages/scipy/odr/_odrpack.py:394: RuntimeWarning: divide by zero encountered in divide\n",
      "  return 1./numpy.power(sd, 2)\n",
      "/cvmfs/sft.cern.ch/lcg/views/LCG_102swan/x86_64-centos7-gcc11-opt/lib/python3.9/site-packages/scipy/odr/_odrpack.py:394: RuntimeWarning: divide by zero encountered in divide\n",
      "  return 1./numpy.power(sd, 2)\n",
      "/cvmfs/sft.cern.ch/lcg/views/LCG_102swan/x86_64-centos7-gcc11-opt/lib/python3.9/site-packages/scipy/odr/_odrpack.py:394: RuntimeWarning: divide by zero encountered in divide\n",
      "  return 1./numpy.power(sd, 2)\n",
      "/cvmfs/sft.cern.ch/lcg/views/LCG_102swan/x86_64-centos7-gcc11-opt/lib/python3.9/site-packages/scipy/odr/_odrpack.py:394: RuntimeWarning: divide by zero encountered in divide\n",
      "  return 1./numpy.power(sd, 2)\n",
      "/cvmfs/sft.cern.ch/lcg/views/LCG_102swan/x86_64-centos7-gcc11-opt/lib/python3.9/site-packages/scipy/odr/_odrpack.py:394: RuntimeWarning: divide by zero encountered in divide\n",
      "  return 1./numpy.power(sd, 2)\n",
      "/cvmfs/sft.cern.ch/lcg/views/LCG_102swan/x86_64-centos7-gcc11-opt/lib/python3.9/site-packages/scipy/odr/_odrpack.py:394: RuntimeWarning: divide by zero encountered in divide\n",
      "  return 1./numpy.power(sd, 2)\n",
      "/cvmfs/sft.cern.ch/lcg/views/LCG_102swan/x86_64-centos7-gcc11-opt/lib/python3.9/site-packages/scipy/odr/_odrpack.py:394: RuntimeWarning: divide by zero encountered in divide\n",
      "  return 1./numpy.power(sd, 2)\n",
      "/cvmfs/sft.cern.ch/lcg/views/LCG_102swan/x86_64-centos7-gcc11-opt/lib/python3.9/site-packages/scipy/odr/_odrpack.py:394: RuntimeWarning: divide by zero encountered in divide\n",
      "  return 1./numpy.power(sd, 2)\n",
      "/cvmfs/sft.cern.ch/lcg/views/LCG_102swan/x86_64-centos7-gcc11-opt/lib/python3.9/site-packages/scipy/odr/_odrpack.py:394: RuntimeWarning: divide by zero encountered in divide\n",
      "  return 1./numpy.power(sd, 2)\n",
      "/cvmfs/sft.cern.ch/lcg/views/LCG_102swan/x86_64-centos7-gcc11-opt/lib/python3.9/site-packages/scipy/odr/_odrpack.py:394: RuntimeWarning: divide by zero encountered in divide\n",
      "  return 1./numpy.power(sd, 2)\n",
      "/cvmfs/sft.cern.ch/lcg/views/LCG_102swan/x86_64-centos7-gcc11-opt/lib/python3.9/site-packages/scipy/odr/_odrpack.py:394: RuntimeWarning: divide by zero encountered in divide\n",
      "  return 1./numpy.power(sd, 2)\n",
      "/cvmfs/sft.cern.ch/lcg/views/LCG_102swan/x86_64-centos7-gcc11-opt/lib/python3.9/site-packages/scipy/odr/_odrpack.py:394: RuntimeWarning: divide by zero encountered in divide\n",
      "  return 1./numpy.power(sd, 2)\n",
      "/cvmfs/sft.cern.ch/lcg/views/LCG_102swan/x86_64-centos7-gcc11-opt/lib/python3.9/site-packages/scipy/odr/_odrpack.py:394: RuntimeWarning: divide by zero encountered in divide\n",
      "  return 1./numpy.power(sd, 2)\n",
      "/cvmfs/sft.cern.ch/lcg/views/LCG_102swan/x86_64-centos7-gcc11-opt/lib/python3.9/site-packages/scipy/odr/_odrpack.py:394: RuntimeWarning: divide by zero encountered in divide\n",
      "  return 1./numpy.power(sd, 2)\n",
      "/cvmfs/sft.cern.ch/lcg/views/LCG_102swan/x86_64-centos7-gcc11-opt/lib/python3.9/site-packages/scipy/odr/_odrpack.py:394: RuntimeWarning: divide by zero encountered in divide\n",
      "  return 1./numpy.power(sd, 2)\n",
      "/cvmfs/sft.cern.ch/lcg/views/LCG_102swan/x86_64-centos7-gcc11-opt/lib/python3.9/site-packages/scipy/odr/_odrpack.py:394: RuntimeWarning: divide by zero encountered in divide\n",
      "  return 1./numpy.power(sd, 2)\n",
      "/cvmfs/sft.cern.ch/lcg/views/LCG_102swan/x86_64-centos7-gcc11-opt/lib/python3.9/site-packages/scipy/odr/_odrpack.py:394: RuntimeWarning: divide by zero encountered in divide\n",
      "  return 1./numpy.power(sd, 2)\n",
      "/cvmfs/sft.cern.ch/lcg/views/LCG_102swan/x86_64-centos7-gcc11-opt/lib/python3.9/site-packages/scipy/odr/_odrpack.py:394: RuntimeWarning: divide by zero encountered in divide\n",
      "  return 1./numpy.power(sd, 2)\n",
      "/cvmfs/sft.cern.ch/lcg/views/LCG_102swan/x86_64-centos7-gcc11-opt/lib/python3.9/site-packages/scipy/odr/_odrpack.py:394: RuntimeWarning: divide by zero encountered in divide\n",
      "  return 1./numpy.power(sd, 2)\n",
      "/cvmfs/sft.cern.ch/lcg/views/LCG_102swan/x86_64-centos7-gcc11-opt/lib/python3.9/site-packages/scipy/odr/_odrpack.py:394: RuntimeWarning: divide by zero encountered in divide\n",
      "  return 1./numpy.power(sd, 2)\n",
      "/cvmfs/sft.cern.ch/lcg/views/LCG_102swan/x86_64-centos7-gcc11-opt/lib/python3.9/site-packages/scipy/odr/_odrpack.py:394: RuntimeWarning: divide by zero encountered in divide\n",
      "  return 1./numpy.power(sd, 2)\n",
      "/cvmfs/sft.cern.ch/lcg/views/LCG_102swan/x86_64-centos7-gcc11-opt/lib/python3.9/site-packages/scipy/odr/_odrpack.py:394: RuntimeWarning: divide by zero encountered in divide\n",
      "  return 1./numpy.power(sd, 2)\n",
      "/cvmfs/sft.cern.ch/lcg/views/LCG_102swan/x86_64-centos7-gcc11-opt/lib/python3.9/site-packages/scipy/odr/_odrpack.py:394: RuntimeWarning: divide by zero encountered in divide\n",
      "  return 1./numpy.power(sd, 2)\n",
      "/cvmfs/sft.cern.ch/lcg/views/LCG_102swan/x86_64-centos7-gcc11-opt/lib/python3.9/site-packages/scipy/odr/_odrpack.py:394: RuntimeWarning: divide by zero encountered in divide\n",
      "  return 1./numpy.power(sd, 2)\n",
      "/cvmfs/sft.cern.ch/lcg/views/LCG_102swan/x86_64-centos7-gcc11-opt/lib/python3.9/site-packages/scipy/odr/_odrpack.py:394: RuntimeWarning: divide by zero encountered in divide\n",
      "  return 1./numpy.power(sd, 2)\n",
      "/cvmfs/sft.cern.ch/lcg/views/LCG_102swan/x86_64-centos7-gcc11-opt/lib/python3.9/site-packages/scipy/odr/_odrpack.py:394: RuntimeWarning: divide by zero encountered in divide\n",
      "  return 1./numpy.power(sd, 2)\n",
      "/cvmfs/sft.cern.ch/lcg/views/LCG_102swan/x86_64-centos7-gcc11-opt/lib/python3.9/site-packages/scipy/odr/_odrpack.py:394: RuntimeWarning: divide by zero encountered in divide\n",
      "  return 1./numpy.power(sd, 2)\n"
     ]
    },
    {
     "name": "stderr",
     "output_type": "stream",
     "text": [
      "/cvmfs/sft.cern.ch/lcg/views/LCG_102swan/x86_64-centos7-gcc11-opt/lib/python3.9/site-packages/scipy/odr/_odrpack.py:394: RuntimeWarning: divide by zero encountered in divide\n",
      "  return 1./numpy.power(sd, 2)\n",
      "/cvmfs/sft.cern.ch/lcg/views/LCG_102swan/x86_64-centos7-gcc11-opt/lib/python3.9/site-packages/scipy/odr/_odrpack.py:394: RuntimeWarning: divide by zero encountered in divide\n",
      "  return 1./numpy.power(sd, 2)\n",
      "/cvmfs/sft.cern.ch/lcg/views/LCG_102swan/x86_64-centos7-gcc11-opt/lib/python3.9/site-packages/scipy/odr/_odrpack.py:394: RuntimeWarning: divide by zero encountered in divide\n",
      "  return 1./numpy.power(sd, 2)\n",
      "/cvmfs/sft.cern.ch/lcg/views/LCG_102swan/x86_64-centos7-gcc11-opt/lib/python3.9/site-packages/scipy/odr/_odrpack.py:394: RuntimeWarning: divide by zero encountered in divide\n",
      "  return 1./numpy.power(sd, 2)\n",
      "/cvmfs/sft.cern.ch/lcg/views/LCG_102swan/x86_64-centos7-gcc11-opt/lib/python3.9/site-packages/scipy/odr/_odrpack.py:394: RuntimeWarning: divide by zero encountered in divide\n",
      "  return 1./numpy.power(sd, 2)\n",
      "/cvmfs/sft.cern.ch/lcg/views/LCG_102swan/x86_64-centos7-gcc11-opt/lib/python3.9/site-packages/scipy/odr/_odrpack.py:394: RuntimeWarning: divide by zero encountered in divide\n",
      "  return 1./numpy.power(sd, 2)\n",
      "/cvmfs/sft.cern.ch/lcg/views/LCG_102swan/x86_64-centos7-gcc11-opt/lib/python3.9/site-packages/scipy/odr/_odrpack.py:394: RuntimeWarning: divide by zero encountered in divide\n",
      "  return 1./numpy.power(sd, 2)\n",
      "/cvmfs/sft.cern.ch/lcg/views/LCG_102swan/x86_64-centos7-gcc11-opt/lib/python3.9/site-packages/scipy/odr/_odrpack.py:394: RuntimeWarning: divide by zero encountered in divide\n",
      "  return 1./numpy.power(sd, 2)\n",
      "/cvmfs/sft.cern.ch/lcg/views/LCG_102swan/x86_64-centos7-gcc11-opt/lib/python3.9/site-packages/scipy/odr/_odrpack.py:394: RuntimeWarning: divide by zero encountered in divide\n",
      "  return 1./numpy.power(sd, 2)\n",
      "/cvmfs/sft.cern.ch/lcg/views/LCG_102swan/x86_64-centos7-gcc11-opt/lib/python3.9/site-packages/scipy/odr/_odrpack.py:394: RuntimeWarning: divide by zero encountered in divide\n",
      "  return 1./numpy.power(sd, 2)\n",
      "/cvmfs/sft.cern.ch/lcg/views/LCG_102swan/x86_64-centos7-gcc11-opt/lib/python3.9/site-packages/scipy/odr/_odrpack.py:394: RuntimeWarning: divide by zero encountered in divide\n",
      "  return 1./numpy.power(sd, 2)\n"
     ]
    },
    {
     "name": "stdout",
     "output_type": "stream",
     "text": [
      "CPU times: user 2min 16s, sys: 1.35 s, total: 2min 17s\n",
      "Wall time: 2min 19s\n"
     ]
    }
   ],
   "source": [
    "%time file = add_rotation(file, show=False)"
   ]
  },
  {
   "cell_type": "code",
   "execution_count": 5,
   "id": "979e505d",
   "metadata": {},
   "outputs": [],
   "source": [
    "rate = file['source_rate']\n",
    "chi2 = file['mean_chi2']\n",
    "rotation = file['rotation']"
   ]
  },
  {
   "cell_type": "code",
   "execution_count": 6,
   "id": "b1528098",
   "metadata": {},
   "outputs": [
    {
     "data": {
      "image/png": "[encoded data removed]",
      "text/plain": [
       "<Figure size 1080x720 with 1 Axes>"
      ]
     },
     "metadata": {
      "needs_background": "light"
     },
     "output_type": "display_data"
    }
   ],
   "source": [
    "fig, ax = plt.subplots(figsize=(15, 10))\n",
    "ax.scatter(rate, chi2)\n",
    "ax.set(xlabel='Rate (Hz)', ylabel='Mean chi2 value', ylim=(0, 1.1*np.max(chi2)), xscale='log')\n",
    "plt.show()"
   ]
  },
  {
   "cell_type": "code",
   "execution_count": 7,
   "id": "a624d1a0",
   "metadata": {},
   "outputs": [
    {
     "data": {
      "image/png": "[encoded data removed]",
      "text/plain": [
       "<Figure size 1080x720 with 1 Axes>"
      ]
     },
     "metadata": {
      "needs_background": "light"
     },
     "output_type": "display_data"
    }
   ],
   "source": [
    "fig, ax = plt.subplots(figsize=(15, 10))\n",
    "ax.scatter(rate, rotation)\n",
    "ax.set(xlabel='Rate (Hz)', ylabel='rotation', ylim=(0, 1.1*np.max(rotation)), xscale='log')\n",
    "plt.show()"
   ]
  },
  {
   "cell_type": "code",
   "execution_count": null,
   "id": "133866a9",
   "metadata": {},
   "outputs": [],
   "source": []
  }
 ],
 "metadata": {
  "kernelspec": {
   "display_name": "Python 3",
   "language": "python",
   "name": "python3"
  },
  "language_info": {
   "codemirror_mode": {
    "name": "ipython",
    "version": 3
   },
   "file_extension": ".py",
   "mimetype": "text/x-python",
   "name": "python",
   "nbconvert_exporter": "python",
   "pygments_lexer": "ipython3",
   "version": "3.9.12"
  }
 },
 "nbformat": 4,
 "nbformat_minor": 5
}
